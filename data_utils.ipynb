{
 "cells": [
  {
   "cell_type": "code",
   "execution_count": 21,
   "id": "1676a129",
   "metadata": {
    "scrolled": true
   },
   "outputs": [],
   "source": [
    "import numpy as np\n",
    "import pandas as pd\n",
    "import nltk\n",
    "import random\n",
    "\n",
    "stopwords = nltk.corpus.stopwords.words('english')\n",
    "from pywsd.utils import lemmatize_sentence\n",
    "import re\n",
    "regex = re.compile('[^a-zA-Z ]')\n",
    "\n",
    "from nltk.stem import WordNetLemmatizer\n",
    "from nltk import pos_tag\n",
    "lemmatizer = WordNetLemmatizer()\n"
   ]
  },
  {
   "cell_type": "code",
   "execution_count": 2,
   "id": "fbee2ddf",
   "metadata": {},
   "outputs": [],
   "source": [
    "# functions for txt file of a text\n",
    "def load_dict(path):\n",
    "    slovarik = np.load(path, allow_pickle = True)\n",
    "    slovarik = slovarik.tolist()\n",
    "    return slovarik\n",
    "\n",
    "def read_data(title_path):\n",
    "    if(title_path[-1] == 't'):\n",
    "        with open(title_path, \"r\", encoding =\"utf8\") as current_file:\n",
    "            text = current_file.read()\n",
    "        return text\n",
    "    else:\n",
    "        data = pd.read_csv('../../../data_jokes_eng_new.csv')\n",
    "        data = data.reset_index()\n",
    "        data = data.dropna()\n",
    "        return data\n",
    "        \n",
    "def remove_stopwords(book_sw):\n",
    "    book_sw = ' '.join([word for word in book_sw.split() if word not in stopwords])\n",
    "    return book_sw\n",
    "def lemmatize_sents(subsample):\n",
    "    for i in range(len(subsample)):\n",
    "        subsample[i] = regex.sub(' ', subsample[i])\n",
    "        subsample[i] = lemmatize_sentence(subsample[i])\n",
    "    return subsample\n",
    "\n",
    "def lemmatized_to_coords(text,slovarik):\n",
    "    coords = []\n",
    "    for i in text:\n",
    "        temp = []\n",
    "        for j in i:\n",
    "            print(j)\n",
    "            try:\n",
    "                temp.append(slovarik[j])\n",
    "            except KeyError:\n",
    "                ok = True\n",
    "        coords.append(coords)\n",
    "    return coords"
   ]
  },
  {
   "cell_type": "code",
   "execution_count": 62,
   "id": "e2c8ee25",
   "metadata": {},
   "outputs": [],
   "source": [
    "#functions for anecdotes ( in english rn )\n",
    "def anecdote_reader(series,n_gramm):\n",
    "    res = []\n",
    "    for i in range(len(series)):\n",
    "        temp = []\n",
    "        for j in range(len(series[i].split())):\n",
    "            if j %(16*n_gramm) == 0:\n",
    "                temp.append(series[i].split()[j - 16*n_gramm:j])\n",
    "        res.append(temp)\n",
    "    return np.asarray(res,dtype=object)\n",
    "\n",
    "\n",
    "def anec_cleaner(raw_data,lemmatizer,language='english'):\n",
    "    \n",
    "    '''\n",
    "    \n",
    "    Turns a List (series,array e.t.c) of Raw Jokes to \n",
    "    a list of format ['lemmatized joke']\n",
    "    Only words recognied by positional tagger are added to the output\n",
    "    All of the resulting jokes are preprocesses not to include stop words from NLTK stopwords\n",
    "\n",
    "    Parameters:\n",
    "    lemmatizer - NLTK Lemmatizer for the language\n",
    "    raw_data - array-like data of strings with raw data\n",
    "    language - the language of the raw jokes\n",
    "    Output - cleaned list of lemmatized jokes\n",
    "\n",
    "    '''\n",
    "    from nltk.tokenize import word_tokenize\n",
    "    from nltk import pos_tag\n",
    "    stopwords = nltk.corpus.stopwords.words(language)\n",
    "    clean_data = []\n",
    "    for i in range(len(raw_data)):\n",
    "        raw_data[i] = regex.sub(' ', raw_data[i])\n",
    "        anec = ''\n",
    "        for token in word_tokenize(raw_data[i]):\n",
    "            tag = pos_tag([token])\n",
    "            tag = tag[0][1][0].lower()\n",
    "            tag = tag if tag in ['a', 'r', 'n', 'v'] else None\n",
    "            if tag and token not in stopwords:\n",
    "                anec +=' ' + lemmatizer.lemmatize(token,tag) + ' '\n",
    "            else: continue\n",
    "        clean_data.append(anec)\n",
    "    return clean_data\n",
    "\n",
    "\n",
    "def percentage_metric(data,dictionary,reverse = False): \n",
    "    '''\n",
    "    \n",
    "    Function to compute data consistency according to SVD Dictionary\n",
    "    Arguments:\n",
    "    data - lemmatized and cleaned jokes\n",
    "    dicitonary - your SVD dictionary\n",
    "    reverse - if set true, the items in the result will be of the vice-versa order\n",
    "    output - dictionary of the format {percentage_of_words_not_in_SVD: number_of_jokes}\n",
    "    \n",
    "    '''\n",
    "    absolute_dict = {}\n",
    "    relative_dict = {}\n",
    "    for i in range(len(data)):\n",
    "        for token in data[i].split():\n",
    "            if(token not in dictionary.keys()):\n",
    "                if(token not in absolute_dict.keys()):\n",
    "                    absolute_dict[i] = 1\n",
    "                else: \n",
    "                    absolute_dict[i] += 1\n",
    "    \n",
    "    for i in absolute_dict.keys():\n",
    "        if round(len(data[i].split())/absolute_dict[i],0) not in relative_dict.keys():\n",
    "            relative_dict[round(len(data[i].split())/absolute_dict[i],0)] =1\n",
    "        else: relative_dict[round(len(data[i].split())/absolute_dict[i],0)]+=1\n",
    "    if reverse:\n",
    "        res = sorted(dict((v,k) for k,v in relative_dict.items()).items(),reverse=True)\n",
    "        return res\n",
    "    else:\n",
    "        return relative_dict"
   ]
  },
  {
   "cell_type": "code",
   "execution_count": 4,
   "id": "b25bf869",
   "metadata": {},
   "outputs": [],
   "source": [
    "slovarik = load_dict('english_newlit_SVD_dict.npy')\n",
    "data = pd.read_csv('../../../data_jokes_eng_new.csv')"
   ]
  },
  {
   "cell_type": "code",
   "execution_count": 31,
   "id": "87a21925",
   "metadata": {},
   "outputs": [
    {
     "name": "stderr",
     "output_type": "stream",
     "text": [
      "/var/folders/kt/8pnx4rb10372fz63y2z655nh0000gn/T/ipykernel_74227/4289833015.py:17: SettingWithCopyWarning: \n",
      "A value is trying to be set on a copy of a slice from a DataFrame\n",
      "\n",
      "See the caveats in the documentation: https://pandas.pydata.org/pandas-docs/stable/user_guide/indexing.html#returning-a-view-versus-a-copy\n",
      "  raw_data[i] = regex.sub(' ', raw_data[i])\n"
     ]
    }
   ],
   "source": []
  },
  {
   "cell_type": "code",
   "execution_count": 53,
   "id": "51f9ed24",
   "metadata": {},
   "outputs": [],
   "source": [
    "stats = percentage_metric(data['Joke'],slovarik,False)"
   ]
  },
  {
   "cell_type": "code",
   "execution_count": 34,
   "id": "1952494b",
   "metadata": {},
   "outputs": [],
   "source": [
    "data['Joke'] = jokes_lemm\n",
    "data.to_csv('../../../data_jokes_eng_new.csv')"
   ]
  },
  {
   "cell_type": "code",
   "execution_count": 21,
   "id": "f1266cfb",
   "metadata": {},
   "outputs": [],
   "source": [
    "df_stats = pd.DataFrame(dict_missing_words.keys())\n",
    "df_stats['counts'] = dict_missing_words.values()\n",
    "df_stats  =df_stats.sort_values(by=['counts'],ascending=False)\n",
    "df_stats.to_csv('stats.csv')"
   ]
  },
  {
   "cell_type": "code",
   "execution_count": null,
   "id": "7e575a17",
   "metadata": {
    "scrolled": true
   },
   "outputs": [],
   "source": [
    "anekdoty = []\n",
    "for i  in range(len(data['Jokes'])):\n",
    "    joke = \"\"\n",
    "    for token in data['Jokes'][i].split():\n",
    "        tag = pos_tag([token])\n",
    "        tag = tag[0][1][0].lower()\n",
    "        tag = tag if tag in ['a', 'r', 'n', 'v'] else None\n",
    "        \n",
    "        if tag:\n",
    "            \n",
    "            if(lemmatizer.lemmatize(token,tag) not in slovarik.keys()):\n",
    "                joke+=' KEYWORD '\n",
    "            else: joke +=' ' + token + ' '\n",
    "        else: continue\n",
    "    anekdoty.append(joke)"
   ]
  },
  {
   "cell_type": "code",
   "execution_count": 53,
   "id": "4cdf8ac8",
   "metadata": {},
   "outputs": [],
   "source": [
    "new ={}\n",
    "for i in distr.keys():\n",
    "    if round(len(data['Jokes'][i].split())/distr[i],2) not in new.keys():\n",
    "        new[round(len(data['Jokes'][i].split())/distr[i],2)] =1\n",
    "    else: new[round(len(data['Jokes'][i].split())/distr[i],2)]+=1"
   ]
  },
  {
   "cell_type": "code",
   "execution_count": 55,
   "id": "2e783823",
   "metadata": {
    "scrolled": false
   },
   "outputs": [
    {
     "data": {
      "image/png": "[encoded data removed]",
      "text/plain": [
       "<Figure size 842.4x595.44 with 1 Axes>"
      ]
     },
     "metadata": {
      "needs_background": "light"
     },
     "output_type": "display_data"
    }
   ],
   "source": [
    "import seaborn as sns\n",
    "from matplotlib import rcParams\n",
    "\n",
    "# figure size in inches\n",
    "rcParams['figure.figsize'] = 11.7,8.27\n",
    "sns.scatterplot(x = stats.keys(),y = stats.values(),hue=stats.keys()).set(title='Percentage of not found words in English Jokes',xlabel='Percentage of not found words',ylabel='count');\n"
   ]
  },
  {
   "cell_type": "code",
   "execution_count": 5,
   "id": "1b7e3007",
   "metadata": {},
   "outputs": [],
   "source": [
    "lens = [len(i.split()) for i in data['Jokes']]"
   ]
  },
  {
   "cell_type": "code",
   "execution_count": 6,
   "id": "fb4e0100",
   "metadata": {},
   "outputs": [
    {
     "data": {
      "text/plain": [
       "18.05162805354468"
      ]
     },
     "execution_count": 6,
     "metadata": {},
     "output_type": "execute_result"
    }
   ],
   "source": [
    "dict_missing_words = {}\n",
    "for joke in data['Jokes']:\n",
    "    for token in joke.split():\n",
    "        tag = pos_tag([token])\n",
    "        tag = tag[0][1][0].lower()\n",
    "        tag = tag if tag in ['a', 'r', 'n', 'v'] else None\n",
    "        if tag:\n",
    "            if(lemmatizer.lemmatize(token,tag) not in slovarik.keys()):\n",
    "                if(lemmatizer.lemmatize(token,tag) not in dict_missing_words.keys()):\n",
    "                    print(token,lemmatizer.lemmatize(token,tag)) \n",
    "                    dict_missing_words[WordNetLemmatizer().lemmatize(token,tag)] = 1\n",
    "                else: \n",
    "                    print(token,lemmatizer.lemmatize(token,tag)) \n",
    "                    dict_missing_words[WordNetLemmatizer().lemmatize(token,tag)] += 1\n",
    "        else: continue"
   ]
  },
  {
   "cell_type": "code",
   "execution_count": 7,
   "id": "5adffd24",
   "metadata": {},
   "outputs": [],
   "source": [
    "dict_missing_words = {}\n",
    "for joke in data['Jokes']:\n",
    "    for token in joke.split():\n",
    "        tag = pos_tag([token])\n",
    "        tag = tag[0][1][0].lower()\n",
    "        tag = tag if tag in ['a', 'r', 'n', 'v'] else None\n",
    "        if tag:\n",
    "            if(lemmatizer.lemmatize(token,tag) not in slovarik.keys()):\n",
    "                if(lemmatizer.lemmatize(token,tag) not in dict_missing_words.keys()):\n",
    "                    print(token,lemmatizer.lemmatize(token,tag)) \n",
    "                    dict_missing_words[WordNetLemmatizer().lemmatize(token,tag)] = 1\n",
    "                else: \n",
    "                    print(token,lemmatizer.lemmatize(token,tag)) \n",
    "                    dict_missing_words[WordNetLemmatizer().lemmatize(token,tag)] += 1\n",
    "        else: continue"
   ]
  },
  {
   "cell_type": "code",
   "execution_count": 58,
   "id": "f7d82240",
   "metadata": {
    "scrolled": false
   },
   "outputs": [
    {
     "data": {
      "text/plain": [
       "8.115537195077204"
      ]
     },
     "execution_count": 58,
     "metadata": {},
     "output_type": "execute_result"
    }
   ],
   "source": [
    "np.mean([len(x.split()) for x in data['Joke']])"
   ]
  },
  {
   "cell_type": "code",
   "execution_count": null,
   "id": "2c67c543",
   "metadata": {},
   "outputs": [],
   "source": []
  }
 ],
 "metadata": {
  "kernelspec": {
   "display_name": "Python 3 (ipykernel)",
   "language": "python",
   "name": "python3"
  },
  "language_info": {
   "codemirror_mode": {
    "name": "ipython",
    "version": 3
   },
   "file_extension": ".py",
   "mimetype": "text/x-python",
   "name": "python",
   "nbconvert_exporter": "python",
   "pygments_lexer": "ipython3",
   "version": "3.8.8"
  }
 },
 "nbformat": 4,
 "nbformat_minor": 5
}
