{
 "cells": [
  {
   "cell_type": "code",
   "execution_count": 1,
   "id": "cb1a2f7e",
   "metadata": {},
   "outputs": [],
   "source": [
    "from graph_utils import *"
   ]
  },
  {
   "cell_type": "code",
   "execution_count": 2,
   "id": "42fbcc11",
   "metadata": {},
   "outputs": [
    {
     "name": "stderr",
     "output_type": "stream",
     "text": [
      "/var/folders/vb/kwlfq17j5c91v6twzjz7s1n80000gn/T/ipykernel_85650/2453539770.py:2: DtypeWarning: Columns (11) have mixed types. Specify dtype option on import or set low_memory=False.\n",
      "  relations = pd.read_csv(\"data/SDFB/relations.csv\")\n"
     ]
    }
   ],
   "source": [
    "people = pd.read_csv(\"data/SDFB/people.csv\")\n",
    "relations = pd.read_csv(\"data/SDFB/relations.csv\")"
   ]
  },
  {
   "cell_type": "code",
   "execution_count": 3,
   "id": "9ba9d692",
   "metadata": {},
   "outputs": [],
   "source": [
    "people = people[[\"id\", \"display_name\"]]\n",
    "relations = relations[[\"id\", \"person1_index\", \"person2_index\"]]"
   ]
  },
  {
   "cell_type": "code",
   "execution_count": 4,
   "id": "d9c0932c",
   "metadata": {},
   "outputs": [
    {
     "data": {
      "text/html": [
       "<div>\n",
       "<style scoped>\n",
       "    .dataframe tbody tr th:only-of-type {\n",
       "        vertical-align: middle;\n",
       "    }\n",
       "\n",
       "    .dataframe tbody tr th {\n",
       "        vertical-align: top;\n",
       "    }\n",
       "\n",
       "    .dataframe thead th {\n",
       "        text-align: right;\n",
       "    }\n",
       "</style>\n",
       "<table border=\"1\" class=\"dataframe\">\n",
       "  <thead>\n",
       "    <tr style=\"text-align: right;\">\n",
       "      <th></th>\n",
       "      <th>id</th>\n",
       "      <th>display_name</th>\n",
       "    </tr>\n",
       "  </thead>\n",
       "  <tbody>\n",
       "    <tr>\n",
       "      <th>0</th>\n",
       "      <td>10000023</td>\n",
       "      <td>John Abercromby</td>\n",
       "    </tr>\n",
       "    <tr>\n",
       "      <th>1</th>\n",
       "      <td>10010033</td>\n",
       "      <td>Valentine Pyne</td>\n",
       "    </tr>\n",
       "    <tr>\n",
       "      <th>2</th>\n",
       "      <td>10004750</td>\n",
       "      <td>John Gedde</td>\n",
       "    </tr>\n",
       "    <tr>\n",
       "      <th>3</th>\n",
       "      <td>10000006</td>\n",
       "      <td>Tomas ab Ieuan ap Rhys</td>\n",
       "    </tr>\n",
       "    <tr>\n",
       "      <th>4</th>\n",
       "      <td>10000007</td>\n",
       "      <td>Maredudd ab Ieuan ap Robert</td>\n",
       "    </tr>\n",
       "  </tbody>\n",
       "</table>\n",
       "</div>"
      ],
      "text/plain": [
       "         id                 display_name\n",
       "0  10000023              John Abercromby\n",
       "1  10010033               Valentine Pyne\n",
       "2  10004750                   John Gedde\n",
       "3  10000006       Tomas ab Ieuan ap Rhys\n",
       "4  10000007  Maredudd ab Ieuan ap Robert"
      ]
     },
     "execution_count": 4,
     "metadata": {},
     "output_type": "execute_result"
    }
   ],
   "source": [
    "people.head()"
   ]
  },
  {
   "cell_type": "code",
   "execution_count": 5,
   "id": "503637bf",
   "metadata": {},
   "outputs": [
    {
     "data": {
      "text/html": [
       "<div>\n",
       "<style scoped>\n",
       "    .dataframe tbody tr th:only-of-type {\n",
       "        vertical-align: middle;\n",
       "    }\n",
       "\n",
       "    .dataframe tbody tr th {\n",
       "        vertical-align: top;\n",
       "    }\n",
       "\n",
       "    .dataframe thead th {\n",
       "        text-align: right;\n",
       "    }\n",
       "</style>\n",
       "<table border=\"1\" class=\"dataframe\">\n",
       "  <thead>\n",
       "    <tr style=\"text-align: right;\">\n",
       "      <th></th>\n",
       "      <th>id</th>\n",
       "      <th>person1_index</th>\n",
       "      <th>person2_index</th>\n",
       "    </tr>\n",
       "  </thead>\n",
       "  <tbody>\n",
       "    <tr>\n",
       "      <th>0</th>\n",
       "      <td>100047969</td>\n",
       "      <td>10002248</td>\n",
       "      <td>10002250</td>\n",
       "    </tr>\n",
       "    <tr>\n",
       "      <th>1</th>\n",
       "      <td>100201025</td>\n",
       "      <td>10002157</td>\n",
       "      <td>10001533</td>\n",
       "    </tr>\n",
       "    <tr>\n",
       "      <th>2</th>\n",
       "      <td>100200986</td>\n",
       "      <td>10050002</td>\n",
       "      <td>10000252</td>\n",
       "    </tr>\n",
       "    <tr>\n",
       "      <th>3</th>\n",
       "      <td>100093295</td>\n",
       "      <td>10004588</td>\n",
       "      <td>10013294</td>\n",
       "    </tr>\n",
       "    <tr>\n",
       "      <th>4</th>\n",
       "      <td>100201027</td>\n",
       "      <td>10008901</td>\n",
       "      <td>10001903</td>\n",
       "    </tr>\n",
       "    <tr>\n",
       "      <th>5</th>\n",
       "      <td>100201026</td>\n",
       "      <td>10008901</td>\n",
       "      <td>10008908</td>\n",
       "    </tr>\n",
       "    <tr>\n",
       "      <th>6</th>\n",
       "      <td>100109759</td>\n",
       "      <td>10005664</td>\n",
       "      <td>10008901</td>\n",
       "    </tr>\n",
       "    <tr>\n",
       "      <th>7</th>\n",
       "      <td>100079104</td>\n",
       "      <td>10003747</td>\n",
       "      <td>10005852</td>\n",
       "    </tr>\n",
       "    <tr>\n",
       "      <th>8</th>\n",
       "      <td>100200997</td>\n",
       "      <td>10054987</td>\n",
       "      <td>10006957</td>\n",
       "    </tr>\n",
       "    <tr>\n",
       "      <th>9</th>\n",
       "      <td>100200987</td>\n",
       "      <td>10054978</td>\n",
       "      <td>10054684</td>\n",
       "    </tr>\n",
       "  </tbody>\n",
       "</table>\n",
       "</div>"
      ],
      "text/plain": [
       "          id  person1_index  person2_index\n",
       "0  100047969       10002248       10002250\n",
       "1  100201025       10002157       10001533\n",
       "2  100200986       10050002       10000252\n",
       "3  100093295       10004588       10013294\n",
       "4  100201027       10008901       10001903\n",
       "5  100201026       10008901       10008908\n",
       "6  100109759       10005664       10008901\n",
       "7  100079104       10003747       10005852\n",
       "8  100200997       10054987       10006957\n",
       "9  100200987       10054978       10054684"
      ]
     },
     "execution_count": 5,
     "metadata": {},
     "output_type": "execute_result"
    }
   ],
   "source": [
    "relations.head(10)"
   ]
  },
  {
   "cell_type": "code",
   "execution_count": 6,
   "id": "2f9de85f",
   "metadata": {},
   "outputs": [],
   "source": [
    "relations_names = pd.DataFrame(columns=[\"P1\", \"P2\"])"
   ]
  },
  {
   "cell_type": "code",
   "execution_count": 7,
   "id": "710a97ad",
   "metadata": {},
   "outputs": [
    {
     "name": "stdout",
     "output_type": "stream",
     "text": [
      "Mildred Cecil\n",
      "John Carver\n",
      "Barbara Apsley\n",
      "Sir Martin Frobisher\n",
      "George North\n",
      "George North\n",
      "Sir Christopher Hatton\n",
      "Robert Dudley\n",
      "Joan Kingston\n",
      "Richard Oulton\n"
     ]
    }
   ],
   "source": [
    "for i in range(10):\n",
    "    p1, p2 = relations.iloc[i][\"person1_index\"], relations.iloc[i][\"person2_index\"]\n",
    "    print(people[people[\"id\"] == p1][\"display_name\"].values[0])"
   ]
  },
  {
   "cell_type": "code",
   "execution_count": 8,
   "id": "eeedb144",
   "metadata": {},
   "outputs": [],
   "source": [
    "people_arr = people.id.values\n",
    "people_arr = np.sort(people_arr, axis=None)"
   ]
  },
  {
   "cell_type": "markdown",
   "id": "149495cf",
   "metadata": {},
   "source": [
    "## Ordinary directed graph \n",
    "\n",
    "One of the assumptions that is being made is that if p1 has relation with p2 it doesn't imply that p2 has relation with p1"
   ]
  },
  {
   "cell_type": "code",
   "execution_count": 9,
   "id": "5bbde8fd",
   "metadata": {},
   "outputs": [],
   "source": [
    "#  let's build a graph\n",
    "graph = {}\n",
    "for i in range(relations.shape[0]):\n",
    "    p1, p2 = relations.iloc[i][\"person1_index\"], relations.iloc[i][\"person2_index\"]\n",
    "    if not p1 in graph.keys():\n",
    "        graph[p1] = [p2]\n",
    "    else:\n",
    "        graph[p1].append(p2)"
   ]
  },
  {
   "cell_type": "code",
   "execution_count": 10,
   "id": "eb50f901",
   "metadata": {},
   "outputs": [],
   "source": [
    "nodes_degree = np.array([])\n",
    "for key, value in graph.items():\n",
    "    nodes_degree = np.append(nodes_degree, len(value))"
   ]
  },
  {
   "cell_type": "code",
   "execution_count": 11,
   "id": "6e384643",
   "metadata": {},
   "outputs": [],
   "source": [
    "import seaborn as sns\n",
    "import matplotlib.pyplot as plt \n",
    "%matplotlib inline"
   ]
  },
  {
   "cell_type": "code",
   "execution_count": 12,
   "id": "1a40aaef",
   "metadata": {},
   "outputs": [
    {
     "data": {
      "text/plain": [
       "(0.0, 100.0)"
      ]
     },
     "execution_count": 12,
     "metadata": {},
     "output_type": "execute_result"
    },
    {
     "data": {
      "image/png": "[encoded data removed]",
      "text/plain": [
       "<Figure size 432x288 with 1 Axes>"
      ]
     },
     "metadata": {
      "needs_background": "light"
     },
     "output_type": "display_data"
    }
   ],
   "source": [
    "sns.histplot(data=nodes_degree)\n",
    "plt.ylim((0, 2500))\n",
    "plt.xlim((0, 100))"
   ]
  },
  {
   "cell_type": "code",
   "execution_count": 69,
   "id": "5d638402",
   "metadata": {},
   "outputs": [],
   "source": [
    "custom_hist = {}\n",
    "for key, value in graph.items():\n",
    "    if len(value) in custom_hist.keys():\n",
    "        custom_hist[len(value)] += 1\n",
    "    else:\n",
    "        custom_hist[len(value)] = 1"
   ]
  },
  {
   "cell_type": "code",
   "execution_count": 70,
   "id": "50a55611",
   "metadata": {},
   "outputs": [],
   "source": [
    "double_log = []\n",
    "for key, value in custom_hist.items():\n",
    "    double_log.append([np.log(key), np.log(value)])"
   ]
  },
  {
   "cell_type": "code",
   "execution_count": 81,
   "id": "68d1fdca",
   "metadata": {},
   "outputs": [
    {
     "data": {
      "text/plain": [
       "<AxesSubplot:>"
      ]
     },
     "execution_count": 81,
     "metadata": {},
     "output_type": "execute_result"
    },
    {
     "data": {
      "image/png": "[encoded data removed]",
      "text/plain": [
       "<Figure size 432x288 with 1 Axes>"
      ]
     },
     "metadata": {
      "needs_background": "light"
     },
     "output_type": "display_data"
    }
   ],
   "source": [
    "double_log = np.array(double_log)\n",
    "sns.scatterplot(x=double_log.T[0], y=double_log.T[1])"
   ]
  },
  {
   "cell_type": "markdown",
   "id": "e60d4f0c",
   "metadata": {},
   "source": [
    "Now let's perform a hypothesis test <br>\n",
    "$H_0:$ the sample doesn't follow the power-law distribution <br>\n",
    "$H_1:$ the sample follows the power-law distribution"
   ]
  },
  {
   "cell_type": "code",
   "execution_count": 15,
   "id": "b5686479",
   "metadata": {},
   "outputs": [],
   "source": [
    "N_DATASETS = 3000 #the number of datasets if heuristically defined as 1/4 * eps^-2"
   ]
  },
  {
   "cell_type": "code",
   "execution_count": 55,
   "id": "111ca7f0",
   "metadata": {},
   "outputs": [],
   "source": [
    "from scipy.stats import pareto\n",
    "from scipy.stats import ks_2samp"
   ]
  },
  {
   "cell_type": "code",
   "execution_count": 48,
   "id": "abaa9a9c",
   "metadata": {},
   "outputs": [],
   "source": [
    "def estimate_alpha(x:np.ndarray, xmin: int) -> float: \n",
    "    return len(x) / int(sum(np.log(x / xmin - 0.5))) + 1"
   ]
  },
  {
   "cell_type": "code",
   "execution_count": 50,
   "id": "26419c3f",
   "metadata": {},
   "outputs": [],
   "source": [
    "alpha_hat = estimate_alpha(nodes_degree, 1)"
   ]
  },
  {
   "cell_type": "code",
   "execution_count": 60,
   "id": "a05e2d7c",
   "metadata": {},
   "outputs": [],
   "source": [
    "p_vals = []\n",
    "for i in range(N_DATASETS):\n",
    "    sample = pareto.rvs(alpha_hat, size=len(nodes_degree))\n",
    "    p_vals.append(ks_2samp(sample, nodes_degree)[1])"
   ]
  },
  {
   "cell_type": "code",
   "execution_count": null,
   "id": "22c5a6d2",
   "metadata": {},
   "outputs": [],
   "source": []
  }
 ],
 "metadata": {
  "kernelspec": {
   "display_name": "Python 3 (ipykernel)",
   "language": "python",
   "name": "python3"
  },
  "language_info": {
   "codemirror_mode": {
    "name": "ipython",
    "version": 3
   },
   "file_extension": ".py",
   "mimetype": "text/x-python",
   "name": "python",
   "nbconvert_exporter": "python",
   "pygments_lexer": "ipython3",
   "version": "3.9.12"
  }
 },
 "nbformat": 4,
 "nbformat_minor": 5
}
