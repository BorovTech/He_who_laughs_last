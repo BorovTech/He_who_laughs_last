{
 "cells": [
  {
   "cell_type": "code",
   "execution_count": 1,
   "id": "cb1a2f7e",
   "metadata": {},
   "outputs": [],
   "source": [
    "from graph_utils import *"
   ]
  },
  {
   "cell_type": "code",
   "execution_count": 5,
   "id": "42fbcc11",
   "metadata": {},
   "outputs": [
    {
     "name": "stderr",
     "output_type": "stream",
     "text": [
      "/var/folders/vb/kwlfq17j5c91v6twzjz7s1n80000gn/T/ipykernel_61965/2453539770.py:2: DtypeWarning: Columns (11) have mixed types. Specify dtype option on import or set low_memory=False.\n",
      "  relations = pd.read_csv(\"data/SDFB/relations.csv\")\n"
     ]
    }
   ],
   "source": [
    "people = pd.read_csv(\"data/SDFB/people.csv\")\n",
    "relations = pd.read_csv(\"data/SDFB/relations.csv\")"
   ]
  },
  {
   "cell_type": "code",
   "execution_count": 11,
   "id": "9ba9d692",
   "metadata": {},
   "outputs": [],
   "source": [
    "people = people[[\"id\", \"display_name\"]]\n",
    "relations = relations[[\"id\", \"person1_index\", \"person2_index\"]]"
   ]
  },
  {
   "cell_type": "code",
   "execution_count": null,
   "id": "d9c0932c",
   "metadata": {},
   "outputs": [],
   "source": []
  }
 ],
 "metadata": {
  "kernelspec": {
   "display_name": "Python 3 (ipykernel)",
   "language": "python",
   "name": "python3"
  },
  "language_info": {
   "codemirror_mode": {
    "name": "ipython",
    "version": 3
   },
   "file_extension": ".py",
   "mimetype": "text/x-python",
   "name": "python",
   "nbconvert_exporter": "python",
   "pygments_lexer": "ipython3",
   "version": "3.9.12"
  }
 },
 "nbformat": 4,
 "nbformat_minor": 5
}
