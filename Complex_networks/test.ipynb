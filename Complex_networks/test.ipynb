{
 "cells": [
  {
   "cell_type": "code",
   "execution_count": 1,
   "id": "f3a1ede8",
   "metadata": {},
   "outputs": [],
   "source": [
    "from graph_utils import *"
   ]
  },
  {
   "cell_type": "code",
   "execution_count": 2,
   "id": "746c4887",
   "metadata": {},
   "outputs": [
    {
     "name": "stderr",
     "output_type": "stream",
     "text": [
      "100%|██████████| 1867261/1867261 [00:10<00:00, 176784.45it/s]\n"
     ]
    }
   ],
   "source": [
    "# Loading the graphs\n",
    "path = \"data/6_gg_ru.npy\" # Path to a file with graph model\n",
    "corp = (np.load(path, allow_pickle=True)).tolist()\n",
    "graph_embed = Graph(vertices=corp) #Graph with embeddings of words (basically, the only use is to extract SVD embeddings)\n",
    "graph = convert_graph_to_networkx(corp)"
   ]
  },
  {
   "cell_type": "code",
   "execution_count": 3,
   "id": "31a49788",
   "metadata": {},
   "outputs": [],
   "source": [
    "def euclid_distance(graph: Graph, first_word: str, second_word: str) -> np.float64:\n",
    "    \"\"\"\n",
    "    Calculate Euclid distance from first_word to second_word\n",
    "\n",
    "    Parameters\n",
    "    ----------\n",
    "    first_word: str,\n",
    "    second_word: str\n",
    "\n",
    "    Returns\n",
    "    -------\n",
    "    euclid_distance : np.float64\n",
    "    \"\"\"\n",
    "    \n",
    "    first_vertex = graph.vertices[first_word].vector\n",
    "    second_vertex = graph.vertices[second_word].vector\n",
    "    return np.linalg.norm(first_vertex - second_vertex)"
   ]
  },
  {
   "cell_type": "code",
   "execution_count": 4,
   "id": "37d5037b",
   "metadata": {},
   "outputs": [],
   "source": [
    "def get_shortest_path_length(graph: nx.classes.graph.Graph, graph_embed: Graph, text: str):\n",
    "    # TODO: make it more optimized. Right now it's quite computationally heavy.\n",
    "    \"\"\" \n",
    "    A function that calculates the lengths of the shortest path of an anecdote in a graph\n",
    "    \"\"\"\n",
    "    graph_path = go_through_text(text, graph=graph)\n",
    "    # print(graph_path)\n",
    "    sp_list = convert_text_shortest_paths_to_text_words_path(graph_path)\n",
    "    path_num = 0\n",
    "    for i in range(1, len(sp_list)):\n",
    "        path_num += euclid_distance(graph_embed, sp_list[i], sp_list[i-1])\n",
    "    return path_num, len(sp_list)"
   ]
  },
  {
   "cell_type": "code",
   "execution_count": 5,
   "id": "3193fb07",
   "metadata": {},
   "outputs": [],
   "source": [
    "def parse(x: str) -> str:\n",
    "    \"\"\"\n",
    "    Special utility function which is used to parse the strings (which represent the jokes)\n",
    "\n",
    "    Args:\n",
    "    x (str): a string that is presented in a way \"['word_1', 'word_2', ..., 'word_N']\"\n",
    "\n",
    "    Returns:\n",
    "    str: a string that looks like \"word_1 word_2 ... word_N \"\n",
    "    \"\"\"\n",
    "    x = x[1:-1]\n",
    "    x = x.replace(\"\\'\", \"\")\n",
    "    temp = x.split(\", \")\n",
    "    return \" \".join(temp)"
   ]
  },
  {
   "cell_type": "code",
   "execution_count": 42,
   "id": "f6aec9bb",
   "metadata": {},
   "outputs": [
    {
     "name": "stdout",
     "output_type": "stream",
     "text": [
      "[('тесть', 'воровство', 'спрашиваться', 'выгодно', 'выгодный', 'подробно', 'участвовать', 'исключение', 'определенный', 'зрение', 'большинство', 'факт', 'личный', 'возможность', 'подобный', 'поэтому'), ('поэтому', 'происходить', 'представлять', 'называть'), ('называть', 'настоящий', 'кроме', 'особенно', 'бумага', 'трудно', 'приятель', 'здоровье', 'присылать', 'уважать', 'поздравлять', 'советовать', 'выучивать', 'безобразие', 'мерзость', 'вызываться', 'фокусник', 'окрестить', 'портиться', 'гигиена', 'сверять', 'рекордный', 'тестировать'), ('тестировать', 'стимулировать', 'разовый', 'групповой', 'стабильность', 'дискуссия', 'комментировать', 'подразумевать', 'инцидент', 'банальный', 'аргумент', 'официально', 'предыдущий'), ('предыдущий', 'перспектива', 'владелец', 'складываться', 'версия'), ('версия', 'означать', 'прошлое', 'черта', 'ужасный', 'радость', 'слеза', 'милый', 'жена')]\n"
     ]
    },
    {
     "data": {
      "text/plain": [
       "(6.561736121454756, 65)"
      ]
     },
     "execution_count": 42,
     "metadata": {},
     "output_type": "execute_result"
    }
   ],
   "source": [
    "joke = \"косметика одинаково полезный особенно вредный здоровье помада рубашка\"\n",
    "get_shortest_path_length(graph, graph_embed, joke)"
   ]
  },
  {
   "cell_type": "code",
   "execution_count": 7,
   "id": "8859e127",
   "metadata": {},
   "outputs": [],
   "source": [
    "df = pd.read_csv(\"../data/Russian_Anecdotes/lemmatized_russian.csv\")"
   ]
  },
  {
   "cell_type": "code",
   "execution_count": 8,
   "id": "f0a2a868",
   "metadata": {},
   "outputs": [
    {
     "data": {
      "text/html": [
       "<div>\n",
       "<style scoped>\n",
       "    .dataframe tbody tr th:only-of-type {\n",
       "        vertical-align: middle;\n",
       "    }\n",
       "\n",
       "    .dataframe tbody tr th {\n",
       "        vertical-align: top;\n",
       "    }\n",
       "\n",
       "    .dataframe thead th {\n",
       "        text-align: right;\n",
       "    }\n",
       "</style>\n",
       "<table border=\"1\" class=\"dataframe\">\n",
       "  <thead>\n",
       "    <tr style=\"text-align: right;\">\n",
       "      <th></th>\n",
       "      <th>lemmatized</th>\n",
       "    </tr>\n",
       "  </thead>\n",
       "  <tbody>\n",
       "    <tr>\n",
       "      <th>0</th>\n",
       "      <td>['колобок', 'это', 'сказка', 'взросление', 'па...</td>\n",
       "    </tr>\n",
       "    <tr>\n",
       "      <th>1</th>\n",
       "      <td>['мы', 'все', 'таки', 'удаться', 'распространи...</td>\n",
       "    </tr>\n",
       "    <tr>\n",
       "      <th>2</th>\n",
       "      <td>['быть', 'оценить', 'состояние', 'российский',...</td>\n",
       "    </tr>\n",
       "    <tr>\n",
       "      <th>3</th>\n",
       "      <td>['есть', 'свидетельство', 'рождение', 'есть', ...</td>\n",
       "    </tr>\n",
       "    <tr>\n",
       "      <th>4</th>\n",
       "      <td>['пожарный', 'оперативно', 'потушить', 'здание...</td>\n",
       "    </tr>\n",
       "  </tbody>\n",
       "</table>\n",
       "</div>"
      ],
      "text/plain": [
       "                                          lemmatized\n",
       "0  ['колобок', 'это', 'сказка', 'взросление', 'па...\n",
       "1  ['мы', 'все', 'таки', 'удаться', 'распространи...\n",
       "2  ['быть', 'оценить', 'состояние', 'российский',...\n",
       "3  ['есть', 'свидетельство', 'рождение', 'есть', ...\n",
       "4  ['пожарный', 'оперативно', 'потушить', 'здание..."
      ]
     },
     "execution_count": 8,
     "metadata": {},
     "output_type": "execute_result"
    }
   ],
   "source": [
    "df.head()"
   ]
  },
  {
   "cell_type": "code",
   "execution_count": 9,
   "id": "02517424",
   "metadata": {},
   "outputs": [],
   "source": [
    "id = []\n",
    "length = []\n",
    "number_of_nodes = []"
   ]
  },
  {
   "cell_type": "code",
   "execution_count": 54,
   "id": "be82903c",
   "metadata": {},
   "outputs": [
    {
     "name": "stderr",
     "output_type": "stream",
     "text": [
      "361it [4:52:09, 48.56s/it] \n"
     ]
    },
    {
     "ename": "KeyError",
     "evalue": "'o'",
     "output_type": "error",
     "traceback": [
      "\u001b[0;31m---------------------------------------------------------------------------\u001b[0m",
      "\u001b[0;31mKeyError\u001b[0m                                  Traceback (most recent call last)",
      "Cell \u001b[0;32mIn[54], line 5\u001b[0m\n\u001b[1;32m      3\u001b[0m joke \u001b[39m=\u001b[39m parse(row[\u001b[39m\"\u001b[39m\u001b[39mlemmatized\u001b[39m\u001b[39m\"\u001b[39m])\n\u001b[1;32m      4\u001b[0m \u001b[39m# print(joke)\u001b[39;00m\n\u001b[0;32m----> 5\u001b[0m l, n \u001b[39m=\u001b[39m get_shortest_path_length(graph, graph_embed, joke)\n\u001b[1;32m      6\u001b[0m \u001b[39m# print(l, n)\u001b[39;00m\n\u001b[1;32m      7\u001b[0m \u001b[39mid\u001b[39m\u001b[39m.\u001b[39mappend(i)\n",
      "Cell \u001b[0;32mIn[4], line 11\u001b[0m, in \u001b[0;36mget_shortest_path_length\u001b[0;34m(graph, graph_embed, text)\u001b[0m\n\u001b[1;32m      9\u001b[0m path_num \u001b[39m=\u001b[39m \u001b[39m0\u001b[39m\n\u001b[1;32m     10\u001b[0m \u001b[39mfor\u001b[39;00m i \u001b[39min\u001b[39;00m \u001b[39mrange\u001b[39m(\u001b[39m1\u001b[39m, \u001b[39mlen\u001b[39m(sp_list)):\n\u001b[0;32m---> 11\u001b[0m     path_num \u001b[39m+\u001b[39m\u001b[39m=\u001b[39m euclid_distance(graph_embed, sp_list[i], sp_list[i\u001b[39m-\u001b[39;49m\u001b[39m1\u001b[39;49m])\n\u001b[1;32m     12\u001b[0m \u001b[39mreturn\u001b[39;00m path_num, \u001b[39mlen\u001b[39m(sp_list)\n",
      "Cell \u001b[0;32mIn[3], line 15\u001b[0m, in \u001b[0;36meuclid_distance\u001b[0;34m(graph, first_word, second_word)\u001b[0m\n\u001b[1;32m      1\u001b[0m \u001b[39mdef\u001b[39;00m \u001b[39meuclid_distance\u001b[39m(graph: Graph, first_word: \u001b[39mstr\u001b[39m, second_word: \u001b[39mstr\u001b[39m) \u001b[39m-\u001b[39m\u001b[39m>\u001b[39m np\u001b[39m.\u001b[39mfloat64:\n\u001b[1;32m      2\u001b[0m     \u001b[39m\"\"\"\u001b[39;00m\n\u001b[1;32m      3\u001b[0m \u001b[39m    Calculate Euclid distance from first_word to second_word\u001b[39;00m\n\u001b[1;32m      4\u001b[0m \n\u001b[0;32m   (...)\u001b[0m\n\u001b[1;32m     12\u001b[0m \u001b[39m    euclid_distance : np.float64\u001b[39;00m\n\u001b[1;32m     13\u001b[0m \u001b[39m    \"\"\"\u001b[39;00m\n\u001b[0;32m---> 15\u001b[0m     first_vertex \u001b[39m=\u001b[39m graph\u001b[39m.\u001b[39;49mvertices[first_word]\u001b[39m.\u001b[39mvector\n\u001b[1;32m     16\u001b[0m     second_vertex \u001b[39m=\u001b[39m graph\u001b[39m.\u001b[39mvertices[second_word]\u001b[39m.\u001b[39mvector\n\u001b[1;32m     17\u001b[0m     \u001b[39mreturn\u001b[39;00m np\u001b[39m.\u001b[39mlinalg\u001b[39m.\u001b[39mnorm(first_vertex \u001b[39m-\u001b[39m second_vertex)\n",
      "\u001b[0;31mKeyError\u001b[0m: 'o'"
     ]
    }
   ],
   "source": [
    "for i, row in tqdm(df.iterrows()):\n",
    "    if (123 <= i < 1000) and (row['lemmatized'] != \"['nan']\"):\n",
    "        joke = parse(row[\"lemmatized\"])\n",
    "        # print(joke)\n",
    "        l, n = get_shortest_path_length(graph, graph_embed, joke)\n",
    "        # print(l, n)\n",
    "        id.append(i)\n",
    "        length.append(l)\n",
    "        number_of_nodes.append(n)"
   ]
  },
  {
   "cell_type": "code",
   "execution_count": 57,
   "id": "8e8435f2",
   "metadata": {},
   "outputs": [
    {
     "name": "stdout",
     "output_type": "stream",
     "text": [
      "358\n"
     ]
    }
   ],
   "source": [
    "print(len(number_of_nodes))"
   ]
  },
  {
   "cell_type": "code",
   "execution_count": 58,
   "id": "7eb62515",
   "metadata": {},
   "outputs": [],
   "source": [
    "df_results = pd.DataFrame({\n",
    "    \"id\": id, \n",
    "    \"length\": length,\n",
    "    \"N_nodes\": number_of_nodes,\n",
    "}, index=id)\n"
   ]
  },
  {
   "cell_type": "code",
   "execution_count": 59,
   "id": "5cad97c9",
   "metadata": {},
   "outputs": [
    {
     "data": {
      "text/html": [
       "<div>\n",
       "<style scoped>\n",
       "    .dataframe tbody tr th:only-of-type {\n",
       "        vertical-align: middle;\n",
       "    }\n",
       "\n",
       "    .dataframe tbody tr th {\n",
       "        vertical-align: top;\n",
       "    }\n",
       "\n",
       "    .dataframe thead th {\n",
       "        text-align: right;\n",
       "    }\n",
       "</style>\n",
       "<table border=\"1\" class=\"dataframe\">\n",
       "  <thead>\n",
       "    <tr style=\"text-align: right;\">\n",
       "      <th></th>\n",
       "      <th>id</th>\n",
       "      <th>length</th>\n",
       "      <th>N_nodes</th>\n",
       "    </tr>\n",
       "  </thead>\n",
       "  <tbody>\n",
       "    <tr>\n",
       "      <th>0</th>\n",
       "      <td>0</td>\n",
       "      <td>94.143181</td>\n",
       "      <td>250</td>\n",
       "    </tr>\n",
       "    <tr>\n",
       "      <th>1</th>\n",
       "      <td>1</td>\n",
       "      <td>4.846424</td>\n",
       "      <td>62</td>\n",
       "    </tr>\n",
       "    <tr>\n",
       "      <th>2</th>\n",
       "      <td>2</td>\n",
       "      <td>1.011491</td>\n",
       "      <td>30</td>\n",
       "    </tr>\n",
       "    <tr>\n",
       "      <th>3</th>\n",
       "      <td>3</td>\n",
       "      <td>13.170483</td>\n",
       "      <td>71</td>\n",
       "    </tr>\n",
       "    <tr>\n",
       "      <th>4</th>\n",
       "      <td>4</td>\n",
       "      <td>1.586293</td>\n",
       "      <td>41</td>\n",
       "    </tr>\n",
       "    <tr>\n",
       "      <th>5</th>\n",
       "      <td>5</td>\n",
       "      <td>47.311841</td>\n",
       "      <td>151</td>\n",
       "    </tr>\n",
       "    <tr>\n",
       "      <th>6</th>\n",
       "      <td>6</td>\n",
       "      <td>32.857813</td>\n",
       "      <td>217</td>\n",
       "    </tr>\n",
       "    <tr>\n",
       "      <th>7</th>\n",
       "      <td>7</td>\n",
       "      <td>143.369420</td>\n",
       "      <td>136</td>\n",
       "    </tr>\n",
       "    <tr>\n",
       "      <th>8</th>\n",
       "      <td>8</td>\n",
       "      <td>8.360460</td>\n",
       "      <td>69</td>\n",
       "    </tr>\n",
       "    <tr>\n",
       "      <th>9</th>\n",
       "      <td>9</td>\n",
       "      <td>3.134427</td>\n",
       "      <td>9</td>\n",
       "    </tr>\n",
       "  </tbody>\n",
       "</table>\n",
       "</div>"
      ],
      "text/plain": [
       "   id      length  N_nodes\n",
       "0   0   94.143181      250\n",
       "1   1    4.846424       62\n",
       "2   2    1.011491       30\n",
       "3   3   13.170483       71\n",
       "4   4    1.586293       41\n",
       "5   5   47.311841      151\n",
       "6   6   32.857813      217\n",
       "7   7  143.369420      136\n",
       "8   8    8.360460       69\n",
       "9   9    3.134427        9"
      ]
     },
     "execution_count": 59,
     "metadata": {},
     "output_type": "execute_result"
    }
   ],
   "source": [
    "df_results.head(10)"
   ]
  },
  {
   "cell_type": "code",
   "execution_count": 34,
   "id": "d6e27668",
   "metadata": {},
   "outputs": [],
   "source": [
    "import seaborn as sns"
   ]
  },
  {
   "cell_type": "code",
   "execution_count": 60,
   "id": "593b0b4a",
   "metadata": {},
   "outputs": [
    {
     "data": {
      "text/plain": [
       "<Axes: xlabel='length', ylabel='Count'>"
      ]
     },
     "execution_count": 60,
     "metadata": {},
     "output_type": "execute_result"
    },
    {
     "data": {
      "image/png": "[encoded data removed]",
      "text/plain": [
       "<Figure size 640x480 with 1 Axes>"
      ]
     },
     "metadata": {},
     "output_type": "display_data"
    }
   ],
   "source": [
    "sns.histplot(df_results['length'])"
   ]
  },
  {
   "cell_type": "code",
   "execution_count": 61,
   "id": "4a1a5ebf",
   "metadata": {},
   "outputs": [],
   "source": [
    "df_results.to_csv(\"360_Jokes_GG.csv\")"
   ]
  },
  {
   "cell_type": "code",
   "execution_count": null,
   "id": "882cb89c",
   "metadata": {},
   "outputs": [],
   "source": []
  }
 ],
 "metadata": {
  "kernelspec": {
   "display_name": "base",
   "language": "python",
   "name": "python3"
  },
  "language_info": {
   "codemirror_mode": {
    "name": "ipython",
    "version": 3
   },
   "file_extension": ".py",
   "mimetype": "text/x-python",
   "name": "python",
   "nbconvert_exporter": "python",
   "pygments_lexer": "ipython3",
   "version": "3.9.16"
  },
  "vscode": {
   "interpreter": {
    "hash": "a1272d458873da2c0f79a6f7b71a2626424fcfce6f6c2ef4992b220daa1dfa55"
   }
  }
 },
 "nbformat": 4,
 "nbformat_minor": 5
}
