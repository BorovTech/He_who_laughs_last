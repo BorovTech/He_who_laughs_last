{
 "cells": [
  {
   "cell_type": "code",
   "execution_count": 1,
   "id": "c82940c3",
   "metadata": {},
   "outputs": [],
   "source": [
    "import pandas as pd\n",
    "import numpy as np\n"
   ]
  },
  {
   "cell_type": "code",
   "execution_count": 9,
   "id": "66ac4788",
   "metadata": {},
   "outputs": [],
   "source": [
    "data = pd.read_csv('../../../data_jokes_eng_new.csv')\n",
    "data = data.reset_index()\n",
    "data = data.reset_index()"
   ]
  },
  {
   "cell_type": "code",
   "execution_count": 53,
   "id": "e490b456",
   "metadata": {
    "scrolled": true
   },
   "outputs": [],
   "source": [
    "def anecdote_reader(series,n_gramm):\n",
    "    res = []\n",
    "    for i in range(len(series)):\n",
    "        temp = []\n",
    "        for j in range(len(series[i].split())):\n",
    "            if j %(16*n_gramm) == 0:\n",
    "                temp.append(series[i].split()[j - 16*n_gramm:j])\n",
    "        res.append(temp)\n",
    "    return np.asarray(res,dtype=object)\n",
    "        "
   ]
  },
  {
   "cell_type": "code",
   "execution_count": 54,
   "id": "d3174619",
   "metadata": {
    "scrolled": true
   },
   "outputs": [],
   "source": [
    "a_1g = anecdote_reader(data['Jokes 1-gramm'],1)"
   ]
  },
  {
   "cell_type": "code",
   "execution_count": 27,
   "id": "00f8cdd5",
   "metadata": {},
   "outputs": [
    {
     "ename": "NameError",
     "evalue": "name 'a_1g' is not defined",
     "output_type": "error",
     "traceback": [
      "\u001b[0;31m---------------------------------------------------------------------------\u001b[0m",
      "\u001b[0;31mNameError\u001b[0m                                 Traceback (most recent call last)",
      "\u001b[0;32m/var/folders/kt/8pnx4rb10372fz63y2z655nh0000gn/T/ipykernel_65954/2374638310.py\u001b[0m in \u001b[0;36m<module>\u001b[0;34m\u001b[0m\n\u001b[0;32m----> 1\u001b[0;31m \u001b[0mlen\u001b[0m\u001b[0;34m(\u001b[0m\u001b[0ma_1g\u001b[0m\u001b[0;34m)\u001b[0m\u001b[0;34m\u001b[0m\u001b[0;34m\u001b[0m\u001b[0m\n\u001b[0m",
      "\u001b[0;31mNameError\u001b[0m: name 'a_1g' is not defined"
     ]
    }
   ],
   "source": [
    "len(a_1g)"
   ]
  },
  {
   "cell_type": "code",
   "execution_count": 40,
   "id": "e325a7e5",
   "metadata": {},
   "outputs": [
    {
     "data": {
      "text/plain": [
       "231580"
      ]
     },
     "execution_count": 40,
     "metadata": {},
     "output_type": "execute_result"
    }
   ],
   "source": []
  },
  {
   "cell_type": "code",
   "execution_count": 47,
   "id": "c20c1496",
   "metadata": {},
   "outputs": [],
   "source": []
  },
  {
   "cell_type": "code",
   "execution_count": 48,
   "id": "e0e42fce",
   "metadata": {},
   "outputs": [
    {
     "data": {
      "text/html": [
       "<div>\n",
       "<style scoped>\n",
       "    .dataframe tbody tr th:only-of-type {\n",
       "        vertical-align: middle;\n",
       "    }\n",
       "\n",
       "    .dataframe tbody tr th {\n",
       "        vertical-align: top;\n",
       "    }\n",
       "\n",
       "    .dataframe thead th {\n",
       "        text-align: right;\n",
       "    }\n",
       "</style>\n",
       "<table border=\"1\" class=\"dataframe\">\n",
       "  <thead>\n",
       "    <tr style=\"text-align: right;\">\n",
       "      <th></th>\n",
       "      <th>index</th>\n",
       "      <th>ID</th>\n",
       "      <th>Joke</th>\n",
       "      <th>Jokes</th>\n",
       "      <th>Jokes_more_letters</th>\n",
       "      <th>Jokes 1-gramm</th>\n",
       "    </tr>\n",
       "  </thead>\n",
       "  <tbody>\n",
       "    <tr>\n",
       "      <th>0</th>\n",
       "      <td>0</td>\n",
       "      <td>1</td>\n",
       "      <td>[me narrating a documentary about narrators] \"...</td>\n",
       "      <td>me narrating a documentary about narrators   ...</td>\n",
       "      <td>narrating documentary about narrator can not h...</td>\n",
       "      <td>1.0300720805 4.4687745506  4.7609708806  9.521...</td>\n",
       "    </tr>\n",
       "    <tr>\n",
       "      <th>1</th>\n",
       "      <td>1</td>\n",
       "      <td>2</td>\n",
       "      <td>Telling my daughter garlic is good for you. Go...</td>\n",
       "      <td>telling my daughter garlic is good for you  go...</td>\n",
       "      <td>telling daughter garlic good for you good immu...</td>\n",
       "      <td>0.00148774 0.00024677  0.00147043 0.00087011 0...</td>\n",
       "    </tr>\n",
       "    <tr>\n",
       "      <th>2</th>\n",
       "      <td>2</td>\n",
       "      <td>3</td>\n",
       "      <td>I've been going through a really rough period ...</td>\n",
       "      <td>i have been going through a really rough perio...</td>\n",
       "      <td>have been going through really rough period wo...</td>\n",
       "      <td>1.4365914500  1.4525173200  2.9588745301 1.14...</td>\n",
       "    </tr>\n",
       "    <tr>\n",
       "      <th>3</th>\n",
       "      <td>3</td>\n",
       "      <td>4</td>\n",
       "      <td>If I could have dinner with anyone, dead or al...</td>\n",
       "      <td>if i could have dinner with anyone  dead or al...</td>\n",
       "      <td>could have dinner with anyone dead alive would...</td>\n",
       "      <td>0.07458526  0.05456136  0.14841935  0.0109398...</td>\n",
       "    </tr>\n",
       "    <tr>\n",
       "      <th>4</th>\n",
       "      <td>4</td>\n",
       "      <td>5</td>\n",
       "      <td>Two guys walk into a bar. The third guy ducks.</td>\n",
       "      <td>two guys walk into a bar  the third guy ducks</td>\n",
       "      <td>two guy walk into bar the third guy duck</td>\n",
       "      <td>0.0021298   0.00030663 0.00026703  0.00787754 ...</td>\n",
       "    </tr>\n",
       "    <tr>\n",
       "      <th>...</th>\n",
       "      <td>...</td>\n",
       "      <td>...</td>\n",
       "      <td>...</td>\n",
       "      <td>...</td>\n",
       "      <td>...</td>\n",
       "      <td>...</td>\n",
       "    </tr>\n",
       "    <tr>\n",
       "      <th>231575</th>\n",
       "      <td>231652</td>\n",
       "      <td>231653</td>\n",
       "      <td>The Spicy Sausage by Delia Katessen</td>\n",
       "      <td>the spicy sausage by delia katessen</td>\n",
       "      <td>the spicy sausage delia katessen</td>\n",
       "      <td>3.6493119401 6.9319499602 1.0823094702  3.311...</td>\n",
       "    </tr>\n",
       "    <tr>\n",
       "      <th>231576</th>\n",
       "      <td>231653</td>\n",
       "      <td>231654</td>\n",
       "      <td>TIL That I Shouldn't have gone to law school, ...</td>\n",
       "      <td>til that i shouldn not have gone to law school...</td>\n",
       "      <td>til that shouldn not have gone law school beca...</td>\n",
       "      <td>0.0016489  0.00057143  0.00053609 0.00063085 ...</td>\n",
       "    </tr>\n",
       "    <tr>\n",
       "      <th>231577</th>\n",
       "      <td>231654</td>\n",
       "      <td>231655</td>\n",
       "      <td>What did the RAM stick say to the politician? ...</td>\n",
       "      <td>what did the ram stick say to the politician  ...</td>\n",
       "      <td>what did the ram stick say the politician</td>\n",
       "      <td>0.01681284 0.01235162  0.00460757 0.01142867 0...</td>\n",
       "    </tr>\n",
       "    <tr>\n",
       "      <th>231578</th>\n",
       "      <td>231655</td>\n",
       "      <td>231656</td>\n",
       "      <td>what do you call a play about victorian era me...</td>\n",
       "      <td>what do you call a play about victorian era me...</td>\n",
       "      <td>what you call play about victorian era menstru...</td>\n",
       "      <td>0.01681284 0.01235162  0.00460757 0.01142867 0...</td>\n",
       "    </tr>\n",
       "    <tr>\n",
       "      <th>231579</th>\n",
       "      <td>231656</td>\n",
       "      <td>231657</td>\n",
       "      <td>Calculus should be taught in every high school...</td>\n",
       "      <td>calculus should be taught in every high school...</td>\n",
       "      <td>calculus should taught every high school aroun...</td>\n",
       "      <td>0.0014352  0.00154732 0.00018003  0.00197948  ...</td>\n",
       "    </tr>\n",
       "  </tbody>\n",
       "</table>\n",
       "<p>231580 rows × 6 columns</p>\n",
       "</div>"
      ],
      "text/plain": [
       "         index      ID                                               Joke  \\\n",
       "0            0       1  [me narrating a documentary about narrators] \"...   \n",
       "1            1       2  Telling my daughter garlic is good for you. Go...   \n",
       "2            2       3  I've been going through a really rough period ...   \n",
       "3            3       4  If I could have dinner with anyone, dead or al...   \n",
       "4            4       5     Two guys walk into a bar. The third guy ducks.   \n",
       "...        ...     ...                                                ...   \n",
       "231575  231652  231653                The Spicy Sausage by Delia Katessen   \n",
       "231576  231653  231654  TIL That I Shouldn't have gone to law school, ...   \n",
       "231577  231654  231655  What did the RAM stick say to the politician? ...   \n",
       "231578  231655  231656  what do you call a play about victorian era me...   \n",
       "231579  231656  231657  Calculus should be taught in every high school...   \n",
       "\n",
       "                                                    Jokes  \\\n",
       "0        me narrating a documentary about narrators   ...   \n",
       "1       telling my daughter garlic is good for you  go...   \n",
       "2       i have been going through a really rough perio...   \n",
       "3       if i could have dinner with anyone  dead or al...   \n",
       "4          two guys walk into a bar  the third guy ducks    \n",
       "...                                                   ...   \n",
       "231575                the spicy sausage by delia katessen   \n",
       "231576  til that i shouldn not have gone to law school...   \n",
       "231577  what did the ram stick say to the politician  ...   \n",
       "231578  what do you call a play about victorian era me...   \n",
       "231579  calculus should be taught in every high school...   \n",
       "\n",
       "                                       Jokes_more_letters  \\\n",
       "0       narrating documentary about narrator can not h...   \n",
       "1       telling daughter garlic good for you good immu...   \n",
       "2       have been going through really rough period wo...   \n",
       "3       could have dinner with anyone dead alive would...   \n",
       "4               two guy walk into bar the third guy duck    \n",
       "...                                                   ...   \n",
       "231575                  the spicy sausage delia katessen    \n",
       "231576  til that shouldn not have gone law school beca...   \n",
       "231577         what did the ram stick say the politician    \n",
       "231578  what you call play about victorian era menstru...   \n",
       "231579  calculus should taught every high school aroun...   \n",
       "\n",
       "                                            Jokes 1-gramm  \n",
       "0       1.0300720805 4.4687745506  4.7609708806  9.521...  \n",
       "1       0.00148774 0.00024677  0.00147043 0.00087011 0...  \n",
       "2        1.4365914500  1.4525173200  2.9588745301 1.14...  \n",
       "3        0.07458526  0.05456136  0.14841935  0.0109398...  \n",
       "4       0.0021298   0.00030663 0.00026703  0.00787754 ...  \n",
       "...                                                   ...  \n",
       "231575   3.6493119401 6.9319499602 1.0823094702  3.311...  \n",
       "231576   0.0016489  0.00057143  0.00053609 0.00063085 ...  \n",
       "231577  0.01681284 0.01235162  0.00460757 0.01142867 0...  \n",
       "231578  0.01681284 0.01235162  0.00460757 0.01142867 0...  \n",
       "231579  0.0014352  0.00154732 0.00018003  0.00197948  ...  \n",
       "\n",
       "[231580 rows x 6 columns]"
      ]
     },
     "execution_count": 48,
     "metadata": {},
     "output_type": "execute_result"
    }
   ],
   "source": []
  },
  {
   "cell_type": "code",
   "execution_count": null,
   "id": "3df00c5a",
   "metadata": {},
   "outputs": [],
   "source": []
  }
 ],
 "metadata": {
  "kernelspec": {
   "display_name": "Python 3 (ipykernel)",
   "language": "python",
   "name": "python3"
  },
  "language_info": {
   "codemirror_mode": {
    "name": "ipython",
    "version": 3
   },
   "file_extension": ".py",
   "mimetype": "text/x-python",
   "name": "python",
   "nbconvert_exporter": "python",
   "pygments_lexer": "ipython3",
   "version": "3.8.8"
  }
 },
 "nbformat": 4,
 "nbformat_minor": 5
}
