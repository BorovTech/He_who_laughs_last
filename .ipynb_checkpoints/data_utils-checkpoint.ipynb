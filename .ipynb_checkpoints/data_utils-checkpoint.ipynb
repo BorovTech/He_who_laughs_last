{
 "cells": [
  {
   "cell_type": "code",
   "execution_count": 70,
   "id": "1676a129",
   "metadata": {},
   "outputs": [
    {
     "name": "stderr",
     "output_type": "stream",
     "text": [
      "[nltk_data] Downloading package wordnet to\n",
      "[nltk_data]     /Users/michaelmiller/nltk_data...\n",
      "[nltk_data]   Package wordnet is already up-to-date!\n",
      "[nltk_data] Downloading package stopwords to\n",
      "[nltk_data]     /Users/michaelmiller/nltk_data...\n",
      "[nltk_data]   Package stopwords is already up-to-date!\n",
      "[nltk_data] Downloading package omw-1.4 to\n",
      "[nltk_data]     /Users/michaelmiller/nltk_data...\n",
      "[nltk_data]   Package omw-1.4 is already up-to-date!\n",
      "[nltk_data] Downloading package averaged_perceptron_tagger to\n",
      "[nltk_data]     /Users/michaelmiller/nltk_data...\n",
      "[nltk_data]   Package averaged_perceptron_tagger is already up-to-\n",
      "[nltk_data]       date!\n",
      "[nltk_data] Downloading package punkt to\n",
      "[nltk_data]     /Users/michaelmiller/nltk_data...\n",
      "[nltk_data]   Package punkt is already up-to-date!\n"
     ]
    },
    {
     "data": {
      "text/plain": [
       "True"
      ]
     },
     "execution_count": 70,
     "metadata": {},
     "output_type": "execute_result"
    }
   ],
   "source": [
    "import numpy as np\n",
    "import pandas as pd\n",
    "from nltk.stem import WordNetLemmatizer as www\n",
    "import nltk\n",
    "import random\n",
    "nltk.download('wordnet')\n",
    "nltk.download('stopwords')\n",
    "nltk.download('omw-1.4')\n",
    "nltk.download('averaged_perceptron_tagger')\n",
    "stopwords = nltk.corpus.stopwords.words('english')\n",
    "from pywsd.utils import lemmatize_sentence\n",
    "import re\n",
    "regex = re.compile('[^a-zA-Z ]')\n",
    "nltk.download('punkt')"
   ]
  },
  {
   "cell_type": "code",
   "execution_count": 76,
   "id": "fbee2ddf",
   "metadata": {},
   "outputs": [],
   "source": [
    "# functions for txt file of a text\n",
    "def load_dict(path):\n",
    "    slovarik = np.load(path, allow_pickle = True)\n",
    "    slovarik = slovarik.tolist()\n",
    "    return slovarik\n",
    "\n",
    "def read_data(title_path):\n",
    "    if(path[-1] == 't'):\n",
    "        with open(title_path, \"r\", encoding =\"utf8\") as current_file:\n",
    "            text = current_file.read()\n",
    "        return text\n",
    "    else:\n",
    "        data = pd.read_csv('../../../data_jokes_eng_new.csv')\n",
    "        data = data.reset_index()\n",
    "        data = data.dropna()\n",
    "        return data\n",
    "        \n",
    "def remove_stopwords(book_sw):\n",
    "    book_sw = ' '.join([word for word in book_sw.split() if word not in stopwords])\n",
    "    return book_sw\n",
    "def lemmatize_sents(subsample):\n",
    "    for i in range(len(subsample)):\n",
    "        subsample[i] = regex.sub('', subsample[i])\n",
    "        subsample[i] = lemmatize_sentence(subsample[i])\n",
    "    return subsample\n",
    "\n",
    "def lemmatized_to_coords(text,slovarik):\n",
    "    coords = []\n",
    "    for i in text:\n",
    "        temp = []\n",
    "        for j in i:\n",
    "            temp.append(slovarik[j])\n",
    "        coords.append(coords)\n",
    "    return coords"
   ]
  },
  {
   "cell_type": "code",
   "execution_count": 59,
   "id": "e2c8ee25",
   "metadata": {},
   "outputs": [],
   "source": [
    "#functions for anecdotes ( in english rn )\n",
    "def anecdote_reader(series,n_gramm):\n",
    "    res = []\n",
    "    for i in range(len(series)):\n",
    "        temp = []\n",
    "        for j in range(len(series[i].split())):\n",
    "            if j %(16*n_gramm) == 0:\n",
    "                temp.append(series[i].split()[j - 16*n_gramm:j])\n",
    "        res.append(temp)\n",
    "    return np.asarray(res,dtype=object)\n"
   ]
  },
  {
   "cell_type": "code",
   "execution_count": 42,
   "id": "b25bf869",
   "metadata": {},
   "outputs": [],
   "source": [
    "slovarik = load_dict('english_newlit_SVD_dict.npy')"
   ]
  },
  {
   "cell_type": "code",
   "execution_count": 71,
   "id": "2f453f32",
   "metadata": {},
   "outputs": [],
   "source": [
    "sents = read_book('/Users/michaelmiller/Documents/wikisent2.txt')\n",
    "sents = sents.split('\\n')\n",
    "random.shuffle(sents)"
   ]
  },
  {
   "cell_type": "code",
   "execution_count": 72,
   "id": "48f55a15",
   "metadata": {},
   "outputs": [],
   "source": [
    "#100 k sents subsample\n",
    "sents = sents[:100000]\n",
    "sents = lemmatize_sents(sents)"
   ]
  },
  {
   "cell_type": "code",
   "execution_count": 34,
   "id": "be32004f",
   "metadata": {},
   "outputs": [],
   "source": [
    "from scipy.stats import wilcoxon"
   ]
  },
  {
   "cell_type": "code",
   "execution_count": 77,
   "id": "6cffc146",
   "metadata": {
    "scrolled": true
   },
   "outputs": [
    {
     "name": "stdout",
     "output_type": "stream",
     "text": [
      "0.126548832455\n"
     ]
    }
   ],
   "source": [
    "print(Wilcoxon_pval)"
   ]
  },
  {
   "cell_type": "code",
   "execution_count": null,
   "id": "43d7e59e",
   "metadata": {},
   "outputs": [],
   "source": []
  }
 ],
 "metadata": {
  "kernelspec": {
   "display_name": "Python 3 (ipykernel)",
   "language": "python",
   "name": "python3"
  },
  "language_info": {
   "codemirror_mode": {
    "name": "ipython",
    "version": 3
   },
   "file_extension": ".py",
   "mimetype": "text/x-python",
   "name": "python",
   "nbconvert_exporter": "python",
   "pygments_lexer": "ipython3",
   "version": "3.8.8"
  }
 },
 "nbformat": 4,
 "nbformat_minor": 5
}
